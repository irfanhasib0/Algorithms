{
 "cells": [
  {
   "cell_type": "markdown",
   "metadata": {},
   "source": [
    "## Bubble Sort"
   ]
  },
  {
   "cell_type": "code",
   "execution_count": 21,
   "metadata": {},
   "outputs": [],
   "source": [
    "arr=[1,9,2,8,3,7,4,6,5]"
   ]
  },
  {
   "cell_type": "code",
   "execution_count": 23,
   "metadata": {},
   "outputs": [
    {
     "name": "stdout",
     "output_type": "stream",
     "text": [
      "[1, 2, 3, 4, 5, 6, 7, 8, 9]\n",
      "[9, 8, 7, 6, 5, 4, 3, 2, 1]\n"
     ]
    }
   ],
   "source": [
    "from copy import copy\n",
    "arr=[1,9,2,8,3,7,4,6,5]\n",
    "raw_arr=copy(arr)\n",
    "for i in range(len(arr)):\n",
    "    for j in range(i+1,len(arr)):\n",
    "        if arr[i]<arr[j]:\n",
    "            #print(arr[i],arr[j])\n",
    "            temp=arr[i]\n",
    "            arr[i]=arr[j]\n",
    "            arr[j]=temp\n",
    "print(raw_arr)\n",
    "print(arr)"
   ]
  },
  {
   "cell_type": "code",
   "execution_count": 39,
   "metadata": {},
   "outputs": [
    {
     "name": "stdout",
     "output_type": "stream",
     "text": [
      "[9, 8, 7, 6, 5, 4, 3, 2, 1]\n"
     ]
    }
   ],
   "source": [
    "from copy import copy\n",
    "arr=[1,9,2,8,3,7,4,6,5]\n",
    "out_arr=copy(arr)\n",
    "_sorted=False\n",
    "while not _sorted:\n",
    "    _sorted=True\n",
    "    for i in range(len(arr)-1):\n",
    "        if arr[i]<arr[i+1]:\n",
    "            _sorted=False\n",
    "            #print(arr)\n",
    "            temp=arr[i]\n",
    "            arr[i]=arr[i+1]\n",
    "            arr[i+1]=temp\n",
    "    #print(_sorted)\n",
    "print(arr)"
   ]
  },
  {
   "cell_type": "markdown",
   "metadata": {},
   "source": [
    "# Quic sort"
   ]
  },
  {
   "cell_type": "code",
   "execution_count": 67,
   "metadata": {},
   "outputs": [
    {
     "name": "stdout",
     "output_type": "stream",
     "text": [
      "[1, 9, 2, 8, 3, 7, 4, 6, 5]\n",
      "[1, 2, 3, 4, 5, 6, 7, 8, 9]\n"
     ]
    }
   ],
   "source": [
    "from copy import copy\n",
    "arr=[1,9,2,8,3,7,4,6,5]\n",
    "raw_arr=copy(arr)\n",
    "def partition(arr,low,high,pivot):\n",
    "    while(low<high):\n",
    "        #print(low,high,arr,pivot)\n",
    "        while arr[low]<pivot and low < len(arr):\n",
    "            low+=1\n",
    "        while arr[high]>pivot and high >-1:\n",
    "            high-=1\n",
    "        #print('..',low,high,arr,pivot)\n",
    "        if low<=high:\n",
    "            temp=arr[low]\n",
    "            arr[low]=arr[high]\n",
    "            arr[high]=temp\n",
    "            low+=1\n",
    "            high-=1\n",
    "    return low\n",
    "def quicksort(arr,low,high):\n",
    "    #print(arr,low,high)\n",
    "    if (low>=high):\n",
    "        return arr\n",
    "    pivot=arr[(low+high)//2]\n",
    "    ind=partition(arr,low,high,pivot)\n",
    "    arr=quicksort(arr,low,ind-1)\n",
    "    arr=quicksort(arr,ind,high)\n",
    "    return arr\n",
    "arr=quicksort(arr,0,len(arr)-1)\n",
    "print(raw_arr)\n",
    "print(arr)"
   ]
  },
  {
   "cell_type": "code",
   "execution_count": 47,
   "metadata": {},
   "outputs": [
    {
     "data": {
      "text/plain": [
       "9"
      ]
     },
     "execution_count": 47,
     "metadata": {},
     "output_type": "execute_result"
    }
   ],
   "source": [
    "len(arr)"
   ]
  },
  {
   "cell_type": "code",
   "execution_count": 29,
   "metadata": {},
   "outputs": [
    {
     "name": "stdout",
     "output_type": "stream",
     "text": [
      "0 9\n",
      "0 3\n",
      "1 3\n",
      "merge\n",
      "[9] [2] 1 2 3\n",
      "9 2\n",
      "[1, 2, 9, 8, 3, 7, 4, 6, 5]\n",
      "merge\n",
      "[1] [2, 9] 0 1 3\n",
      "[1, 2, 9, 8, 3, 7, 4, 6, 5]\n",
      "4 9\n",
      "6 9\n",
      "7 9\n",
      "merge\n",
      "[6] [5] 7 8 9\n",
      "6 5\n",
      "[1, 2, 9, 8, 3, 7, 4, 5, 6]\n",
      "merge\n",
      "[4] [5, 6] 6 7 9\n",
      "[1, 2, 9, 8, 3, 7, 4, 5, 6]\n",
      "merge\n",
      "[3, 7] [4, 5, 6] 4 6 9\n",
      "7 4\n",
      "4 5\n",
      "5 6\n",
      "[1, 2, 9, 8, 3, 4, 5, 6, 7]\n",
      "merge\n",
      "[1, 2, 9, 8] [3, 4, 5, 6, 7] 0 4 9\n",
      "9 3\n",
      "8 4\n",
      "3 5\n",
      "4 6\n",
      "5 7\n",
      "[1, 2, 3, 4, 5, 6, 7, 9, 8]\n",
      "[1, 9, 2, 8, 3, 7, 4, 6, 5]\n",
      "[1, 2, 3, 4, 5, 6, 7, 9, 8]\n"
     ]
    }
   ],
   "source": [
    "from copy import copy\n",
    "arr=[1,9,2,8,3,7,4,6,5]\n",
    "raw_arr=copy(arr)\n",
    "temp=[0]*len(arr)\n",
    "def mergeHalf(arr,low,high,ind):\n",
    "    \n",
    "    L=arr[low:ind]\n",
    "    R=arr[ind:high]\n",
    "    i=low\n",
    "    j=ind\n",
    "    k=low\n",
    "    #print(ind,low,high)\n",
    "    print(L,R,low,ind,high)\n",
    "    _arr=copy(arr)\n",
    "    while i < ind and j < high:\n",
    "        #print('..',arr[i],arr[j])\n",
    "        if arr[i]<arr[j]:\n",
    "            #print(arr[k],arr[i])\n",
    "            _arr[k]=arr[i]\n",
    "            \n",
    "            i+=1\n",
    "        else:\n",
    "            print(arr[k],arr[j])\n",
    "            _arr[k]=arr[j]\n",
    "            \n",
    "            j+=1\n",
    "        k+=1\n",
    "    \n",
    "    while i <ind:\n",
    "        _arr[k]=arr[i]\n",
    "        i+=1\n",
    "        k+=1\n",
    "    while j <high:\n",
    "        _arr[k]=arr[j]\n",
    "        j+=1\n",
    "        k+=1\n",
    "        \n",
    "    return _arr\n",
    "    \n",
    "def _ind(low,high):\n",
    "    return low+(high-low)//2\n",
    "def mergeSort(arr,low,high):\n",
    "    #print(arr,low,high)\n",
    "    if (high-low>1):\n",
    "        print(low,high)\n",
    "            #return arr\n",
    "\n",
    "        ind=_ind(low,high)\n",
    "        arr=mergeSort(arr,low,ind-1)\n",
    "        arr=mergeSort(arr,ind,high)\n",
    "        print('merge')\n",
    "        arr=mergeHalf(arr,low,high,ind)\n",
    "        print(arr)\n",
    "    return arr\n",
    "arr=mergeSort(arr,0,len(arr))\n",
    "print(raw_arr)\n",
    "print(arr)"
   ]
  },
  {
   "cell_type": "markdown",
   "metadata": {},
   "source": [
    "### Fibonacci"
   ]
  },
  {
   "cell_type": "code",
   "execution_count": 14,
   "metadata": {},
   "outputs": [
    {
     "name": "stdout",
     "output_type": "stream",
     "text": [
      "0 0 0 0\n",
      "1 1 1 1\n",
      "2 1 2 2\n",
      "3 2 3 3\n",
      "4 3 5 5\n",
      "5 5 8 8\n",
      "6 8 13 13\n",
      "7 13 21 21\n",
      "8 21 34 34\n",
      "9 34 55 55\n"
     ]
    }
   ],
   "source": [
    "def fib(n):\n",
    "    if n==0: return 0\n",
    "    elif n==1: return 1\n",
    "    else:\n",
    "        return fib(n-1)+ fib(n-2)\n",
    "def fib_2(n):\n",
    "    if n==0: return 0\n",
    "    elif n==1: return 1\n",
    "    else: \n",
    "        a=0;b=1\n",
    "        for j in range(n):\n",
    "            fib=a+b\n",
    "            a=b\n",
    "            b=fib\n",
    "    return fib\n",
    "def fib_3(n):\n",
    "    _init_val=[0,1]\n",
    "    fib=0\n",
    "    for i in range(n):\n",
    "        fib=_init_val[0]+_init_val[1]\n",
    "        _init_val=_init_val[1:]+[fib]\n",
    "    return fib\n",
    "for i in range(10):\n",
    "    print(i,fib(i),fib_2(i),fib_3(i))"
   ]
  },
  {
   "cell_type": "code",
   "execution_count": null,
   "metadata": {},
   "outputs": [],
   "source": []
  }
 ],
 "metadata": {
  "kernelspec": {
   "display_name": "Python 3",
   "language": "python",
   "name": "python3"
  },
  "language_info": {
   "codemirror_mode": {
    "name": "ipython",
    "version": 3
   },
   "file_extension": ".py",
   "mimetype": "text/x-python",
   "name": "python",
   "nbconvert_exporter": "python",
   "pygments_lexer": "ipython3",
   "version": "3.7.7"
  }
 },
 "nbformat": 4,
 "nbformat_minor": 4
}
