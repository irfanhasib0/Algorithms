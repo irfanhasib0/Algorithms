{
 "cells": [
  {
   "cell_type": "code",
   "execution_count": 1,
   "metadata": {},
   "outputs": [
    {
     "name": "stdout",
     "output_type": "stream",
     "text": [
      "0 2\n",
      "1 4\n"
     ]
    }
   ],
   "source": [
    "arr=[8, 7, 2, 5, 3, 1]\n",
    "_sum=10\n",
    "for i in range(len(arr)):\n",
    "    for j in range(i+1,len(arr)):\n",
    "        if arr[i]+arr[j]==_sum:\n",
    "            print(i,j)"
   ]
  },
  {
   "cell_type": "code",
   "execution_count": 10,
   "metadata": {},
   "outputs": [
    {
     "name": "stdout",
     "output_type": "stream",
     "text": [
      "0 2\n",
      "1 4\n"
     ]
    }
   ],
   "source": [
    "arr=[8, 7, 2, 5, 3, 1]\n",
    "_sum=10\n",
    "_dict={}\n",
    "for i in range(len(arr)):\n",
    "    if (_sum-arr[i]) in _dict:\n",
    "        print(_dict[_sum-arr[i]],i)\n",
    "    _dict[arr[i]]=i"
   ]
  },
  {
   "cell_type": "code",
   "execution_count": 39,
   "metadata": {},
   "outputs": [
    {
     "name": "stdout",
     "output_type": "stream",
     "text": [
      "2 0\n",
      "4 1\n"
     ]
    }
   ],
   "source": [
    "from copy import copy\n",
    "arr=[8, 7, 2, 5, 3, 1]\n",
    "_sum=10\n",
    "srt_arr=copy(arr)\n",
    "srt_arr.sort()\n",
    "low=0;high=len(arr)-1\n",
    "while low < high:\n",
    "    if (srt_arr[low]+srt_arr[high])==_sum:\n",
    "        print(arr.index(srt_arr[low]),arr.index(srt_arr[high]))\n",
    "        low+=1\n",
    "    elif (srt_arr[low]+srt_arr[high])<_sum:\n",
    "        low+=1\n",
    "    else:\n",
    "        high-=1"
   ]
  },
  {
   "cell_type": "code",
   "execution_count": 64,
   "metadata": {},
   "outputs": [
    {
     "name": "stdout",
     "output_type": "stream",
     "text": [
      "0 3\n",
      "[-2, -3, 5]\n",
      "7 8\n",
      "[0]\n",
      "5 9\n",
      "[-3, -1, 0, 4]\n"
     ]
    }
   ],
   "source": [
    "arr=[ -2,-3,5,4, 2, -3, -1, 0, 4 ]\n",
    "_sum=0\n",
    "_dict={0:0}\n",
    "_total=0\n",
    "for i in range(len(arr)):\n",
    "    _total+=arr[i]\n",
    "    #print('..',i,_total)\n",
    "    if _total in _dict:\n",
    "        print(_dict[_total],i+1)\n",
    "        print(arr[_dict[_total]:i+1])\n",
    "    else:\n",
    "        _dict[_total]=i+1"
   ]
  },
  {
   "cell_type": "code",
   "execution_count": 69,
   "metadata": {},
   "outputs": [
    {
     "name": "stdout",
     "output_type": "stream",
     "text": [
      "0 4\n",
      "[1, 2, 3, 4]\n",
      "5 8\n",
      "[2, 3, 5]\n"
     ]
    }
   ],
   "source": [
    "arr=[1,2,3,4,5,2,3,5,7,8,9 ]\n",
    "_sum=10\n",
    "_dict={0:0}\n",
    "_total=0\n",
    "for i in range(len(arr)):\n",
    "    _total+=arr[i]\n",
    "    #print(_total)\n",
    "    if (_total-_sum) in _dict:\n",
    "        print(_dict[_total-_sum],i+1)\n",
    "        print(arr[_dict[_total-_sum]:i+1])\n",
    "    else:\n",
    "        _dict[_total]=i+1"
   ]
  },
  {
   "cell_type": "code",
   "execution_count": 74,
   "metadata": {},
   "outputs": [
    {
     "data": {
      "text/plain": [
       "{1, 2}"
      ]
     },
     "execution_count": 74,
     "metadata": {},
     "output_type": "execute_result"
    }
   ],
   "source": [
    "s=set()\n",
    "s.add(1)\n",
    "s.add(2)\n",
    "s"
   ]
  },
  {
   "cell_type": "code",
   "execution_count": 2,
   "metadata": {},
   "outputs": [
    {
     "data": {
      "text/plain": [
       "[('a', 'b', 'c'),\n",
       " ('a', 'b', 'd'),\n",
       " ('a', 'c', 'b'),\n",
       " ('a', 'c', 'd'),\n",
       " ('a', 'd', 'b'),\n",
       " ('a', 'd', 'c'),\n",
       " ('b', 'a', 'c'),\n",
       " ('b', 'a', 'd'),\n",
       " ('b', 'c', 'a'),\n",
       " ('b', 'c', 'd'),\n",
       " ('b', 'd', 'a'),\n",
       " ('b', 'd', 'c'),\n",
       " ('c', 'a', 'b'),\n",
       " ('c', 'a', 'd'),\n",
       " ('c', 'b', 'a'),\n",
       " ('c', 'b', 'd'),\n",
       " ('c', 'd', 'a'),\n",
       " ('c', 'd', 'b'),\n",
       " ('d', 'a', 'b'),\n",
       " ('d', 'a', 'c'),\n",
       " ('d', 'b', 'a'),\n",
       " ('d', 'b', 'c'),\n",
       " ('d', 'c', 'a'),\n",
       " ('d', 'c', 'b')]"
      ]
     },
     "execution_count": 2,
     "metadata": {},
     "output_type": "execute_result"
    }
   ],
   "source": [
    "from itertools import combinations as icomb\n",
    "from itertools import permutations as iperm\n",
    "n=3\n",
    "_input=['a','b','c','d']\n",
    "ret=iperm(_input,n)\n",
    "list(ret)"
   ]
  },
  {
   "cell_type": "code",
   "execution_count": 25,
   "metadata": {},
   "outputs": [
    {
     "data": {
      "text/plain": [
       "[['a', 'b', 'c', 'd'],\n",
       " ['a', 'b', 'c'],\n",
       " ['a', 'b', 'd'],\n",
       " ['a', 'b'],\n",
       " ['a', 'c', 'd'],\n",
       " ['a', 'c'],\n",
       " ['a', 'd'],\n",
       " ['a'],\n",
       " ['b', 'a', 'c', 'd'],\n",
       " ['b', 'a', 'c'],\n",
       " ['b', 'a', 'd'],\n",
       " ['b', 'a'],\n",
       " ['b', 'c', 'd'],\n",
       " ['b', 'c'],\n",
       " ['b', 'd'],\n",
       " ['b'],\n",
       " ['c', 'a', 'b', 'd'],\n",
       " ['c', 'a', 'b'],\n",
       " ['c', 'a', 'd'],\n",
       " ['c', 'a'],\n",
       " ['c', 'b', 'd'],\n",
       " ['c', 'b'],\n",
       " ['c', 'd'],\n",
       " ['c'],\n",
       " ['d', 'a', 'b', 'c'],\n",
       " ['d', 'a', 'b'],\n",
       " ['d', 'a', 'c'],\n",
       " ['d', 'a'],\n",
       " ['d', 'b', 'c'],\n",
       " ['d', 'b'],\n",
       " ['d', 'c'],\n",
       " ['d'],\n",
       " ['a', 'b', 'c'],\n",
       " ['a', 'b'],\n",
       " ['a', 'c'],\n",
       " ['a'],\n",
       " ['b', 'c'],\n",
       " ['b'],\n",
       " ['c'],\n",
       " []]"
      ]
     },
     "execution_count": 25,
     "metadata": {},
     "output_type": "execute_result"
    }
   ],
   "source": [
    "lst=['a','b','c','d']\n",
    "def comb_v1(lst):\n",
    "    if len(lst)==0: return [[]]\n",
    "    _seqs=[]\n",
    "    _first=[lst[0]]\n",
    "    _exc_first=lst[1:]\n",
    "    _exc_first_combs=combs(_exc_first)\n",
    "    \n",
    "    for _comb in _exc_first_combs:\n",
    "        _seqs.append(_first+_comb)\n",
    "    return _seqs+_exc_first_combs\n",
    "#comb_all(lst)\n",
    "\n",
    "def comb_all(lst):\n",
    "    if len(lst)==0: return [[]]\n",
    "    _seqs=[]\n",
    "    for i in range(len(lst)):\n",
    "        _first=[lst[i]]\n",
    "        _exc_first=lst[:i]+lst[i+1:]\n",
    "        _exc_first_combs=combs(_exc_first)\n",
    "\n",
    "        for _comb in _exc_first_combs:\n",
    "            _seqs.append(_first+_comb)\n",
    "    return _seqs+_exc_first_combs\n",
    "\n",
    "def perm_all(lst):\n",
    "    if len(lst)==0: return [[]]\n",
    "    _seqs=[]\n",
    "    for i in range(len(lst)):\n",
    "        _first=[lst[i]]\n",
    "        _exc_first=lst[:i]+lst[i+1:]\n",
    "        _exc_first_combs=combs(_exc_first)\n",
    "\n",
    "        for _comb in _exc_first_combs:\n",
    "            _seqs.append(_first+_comb)\n",
    "    return _seqs+_exc_first_combs\n",
    "\n",
    "perm_all(lst)"
   ]
  },
  {
   "cell_type": "code",
   "execution_count": 9,
   "metadata": {},
   "outputs": [
    {
     "name": "stdout",
     "output_type": "stream",
     "text": [
      "Combinations\n",
      "[['a', 'b', 'c'], ['a', 'b', 'd'], ['a', 'c', 'd'], ['b', 'c', 'd']]\n",
      "Permutations\n",
      "[['a', 'b', 'c'], ['a', 'b', 'd'], ['a', 'c', 'b'], ['a', 'c', 'd'], ['a', 'd', 'b'], ['a', 'd', 'c'], ['b', 'a', 'c'], ['b', 'a', 'd'], ['b', 'c', 'a'], ['b', 'c', 'd'], ['b', 'd', 'a'], ['b', 'd', 'c'], ['c', 'a', 'b'], ['c', 'a', 'd'], ['c', 'b', 'a'], ['c', 'b', 'd'], ['c', 'd', 'a'], ['c', 'd', 'b'], ['d', 'a', 'b'], ['d', 'a', 'c'], ['d', 'b', 'a'], ['d', 'b', 'c'], ['d', 'c', 'a'], ['d', 'c', 'b']]\n"
     ]
    }
   ],
   "source": [
    "_input=['a','b','c','d']\n",
    "def comb(_inp,n):\n",
    "    if n==0:return [[]]\n",
    "    _seqs=[]\n",
    "    for i in range(0,len(_inp)):\n",
    "        _first=[_inp[i]]\n",
    "        _exc_first=_inp[i+1:]\n",
    "        _exc_first_combs=comb(_exc_first,n-1)\n",
    "        for _comb in _exc_first_combs:\n",
    "            _seqs.append(_first+_comb)\n",
    "    return _seqs\n",
    "\n",
    "def perm(_inp,n):\n",
    "    if n==0:return [[]]\n",
    "    _seqs=[]\n",
    "    for i in range(0,len(_inp)):\n",
    "        _first=[_inp[i]]\n",
    "        _exc_first=_inp[:i]+_inp[i+1:]\n",
    "        _exc_first_combs=perm(_exc_first,n-1)\n",
    "        for _comb in _exc_first_combs:\n",
    "            _seqs.append(_first+_comb)\n",
    "    return _seqs\n",
    "\n",
    "print('Combinations')\n",
    "print(comb(_input,3))\n",
    "print('Permutations')\n",
    "print(perm(_input,3))"
   ]
  },
  {
   "cell_type": "raw",
   "metadata": {},
   "source": [
    " ['a','b','c','d','e','f']\n",
    "n=2, ['a']['b','c','d','e','f']\n",
    "n=1, ['b']['c','d','e','f']\n",
    "n=0, ['c']['d','e','f']\n",
    "--> [[c],[d],[e],[f]\n",
    "     -->[[bc],[bd],[be],[bf]]\n",
    "        -->[[abc],[abd],[abe],[abf]\n",
    "n=1, ['c']['d','e','f']\n",
    "n=0, ['d']['e','f']\n",
    "--> [[d],[e],[f]\n",
    "     -->[[cd],[ce],[cf]]\n",
    "        -->[[acd],[ace],[acf]]\n",
    "     \n",
    "n=1, ['d']['e','f']\n",
    "n=0, ['e']['f']\n",
    "--> [[e],[f]\n",
    "     -->[[de],[df]\n",
    "        -->[[ade],[adf]]\n",
    "        \n",
    "n=1, ['e']['f']\n",
    "n=0, ['f'][]\n",
    "--> [[f]]\n",
    "     -->[[ef]\n",
    "        -->[[aef]]\n",
    "n=1, ['f'][]\n",
    "n=0, [][]\n",
    "--> [[]]\n",
    "\n",
    "['a','b','c','d','e','f']\n",
    "n=2, ['a']['b','c','d','e','f']\n",
    "n=1, ['b']['c','d','e','f']\n",
    "n=0, ['c']['d','e','f']\n",
    "--> [[b],[d],[e],[f]\n",
    "     -->[[bc],[bd],[be],[bf]]\n",
    "        -->[[abc],[abd],[abe],[abf]]\n",
    "        \n",
    "n=1, ['c']['b','d','e','f']\n",
    "n=0, ['d']['c','e','f']\n",
    "--> [[d],[e],[f]\n",
    "     -->[[cd],[ce],[cf]]\n",
    "        -->[[acd],[ace],[acf]]\n",
    "     \n",
    "n=1, ['d']['e','f']\n",
    "n=0, ['e']['f']\n",
    "--> [[e],[f]\n",
    "     -->[[de],[df]\n",
    "        -->[[ade],[adf]]\n",
    "        \n",
    "n=1, ['e']['f']\n",
    "n=0, ['f'][]\n",
    "--> [[f]]\n",
    "     -->[[ef]\n",
    "        -->[[aef]]\n",
    "n=1, ['f'][]\n",
    "n=0, [][]\n",
    "--> [[]]"
   ]
  },
  {
   "cell_type": "code",
   "execution_count": 2,
   "metadata": {},
   "outputs": [
    {
     "data": {
      "text/plain": [
       "15"
      ]
     },
     "execution_count": 2,
     "metadata": {},
     "output_type": "execute_result"
    }
   ],
   "source": [
    "arr=[1,2,3,4,5]\n",
    "def rec_sum(arr):\n",
    "    if len(arr)==0: return 0\n",
    "    _sum=arr[0]+rec_sum(arr[1:])\n",
    "    return _sum\n",
    "rec_sum(arr)"
   ]
  },
  {
   "cell_type": "code",
   "execution_count": null,
   "metadata": {},
   "outputs": [],
   "source": [
    "O(n)\n",
    "O(log(n))\n",
    "O(nlog(n))\n",
    "O(n^p) -> O(n^2)\n",
    "O(b^n) -> O(2^n)\n",
    "O(n!)"
   ]
  }
 ],
 "metadata": {
  "kernelspec": {
   "display_name": "Python 3",
   "language": "python",
   "name": "python3"
  },
  "language_info": {
   "codemirror_mode": {
    "name": "ipython",
    "version": 3
   },
   "file_extension": ".py",
   "mimetype": "text/x-python",
   "name": "python",
   "nbconvert_exporter": "python",
   "pygments_lexer": "ipython3",
   "version": "3.7.7"
  }
 },
 "nbformat": 4,
 "nbformat_minor": 4
}
