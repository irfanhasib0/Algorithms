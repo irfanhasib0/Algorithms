{
 "cells": [
  {
   "cell_type": "code",
   "execution_count": 1,
   "metadata": {},
   "outputs": [
    {
     "name": "stdout",
     "output_type": "stream",
     "text": [
      "0 2\n",
      "1 4\n"
     ]
    }
   ],
   "source": [
    "arr=[8, 7, 2, 5, 3, 1]\n",
    "_sum=10\n",
    "for i in range(len(arr)):\n",
    "    for j in range(i+1,len(arr)):\n",
    "        if arr[i]+arr[j]==_sum:\n",
    "            print(i,j)"
   ]
  },
  {
   "cell_type": "code",
   "execution_count": 10,
   "metadata": {},
   "outputs": [
    {
     "name": "stdout",
     "output_type": "stream",
     "text": [
      "0 2\n",
      "1 4\n"
     ]
    }
   ],
   "source": [
    "arr=[8, 7, 2, 5, 3, 1]\n",
    "_sum=10\n",
    "_dict={}\n",
    "for i in range(len(arr)):\n",
    "    if (_sum-arr[i]) in _dict:\n",
    "        print(_dict[_sum-arr[i]],i)\n",
    "    _dict[arr[i]]=i"
   ]
  },
  {
   "cell_type": "code",
   "execution_count": 39,
   "metadata": {},
   "outputs": [
    {
     "name": "stdout",
     "output_type": "stream",
     "text": [
      "2 0\n",
      "4 1\n"
     ]
    }
   ],
   "source": [
    "from copy import copy\n",
    "arr=[8, 7, 2, 5, 3, 1]\n",
    "_sum=10\n",
    "srt_arr=copy(arr)\n",
    "srt_arr.sort()\n",
    "low=0;high=len(arr)-1\n",
    "while low < high:\n",
    "    if (srt_arr[low]+srt_arr[high])==_sum:\n",
    "        print(arr.index(srt_arr[low]),arr.index(srt_arr[high]))\n",
    "        low+=1\n",
    "    elif (srt_arr[low]+srt_arr[high])<_sum:\n",
    "        low+=1\n",
    "    else:\n",
    "        high-=1"
   ]
  },
  {
   "cell_type": "code",
   "execution_count": 64,
   "metadata": {},
   "outputs": [
    {
     "name": "stdout",
     "output_type": "stream",
     "text": [
      "0 3\n",
      "[-2, -3, 5]\n",
      "7 8\n",
      "[0]\n",
      "5 9\n",
      "[-3, -1, 0, 4]\n"
     ]
    }
   ],
   "source": [
    "arr=[ -2,-3,5,4, 2, -3, -1, 0, 4 ]\n",
    "_sum=0\n",
    "_dict={0:0}\n",
    "_total=0\n",
    "for i in range(len(arr)):\n",
    "    _total+=arr[i]\n",
    "    #print('..',i,_total)\n",
    "    if _total in _dict:\n",
    "        print(_dict[_total],i+1)\n",
    "        print(arr[_dict[_total]:i+1])\n",
    "    else:\n",
    "        _dict[_total]=i+1"
   ]
  },
  {
   "cell_type": "code",
   "execution_count": 69,
   "metadata": {},
   "outputs": [
    {
     "name": "stdout",
     "output_type": "stream",
     "text": [
      "0 4\n",
      "[1, 2, 3, 4]\n",
      "5 8\n",
      "[2, 3, 5]\n"
     ]
    }
   ],
   "source": [
    "arr=[1,2,3,4,5,2,3,5,7,8,9 ]\n",
    "_sum=10\n",
    "_dict={0:0}\n",
    "_total=0\n",
    "for i in range(len(arr)):\n",
    "    _total+=arr[i]\n",
    "    #print(_total)\n",
    "    if (_total-_sum) in _dict:\n",
    "        print(_dict[_total-_sum],i+1)\n",
    "        print(arr[_dict[_total-_sum]:i+1])\n",
    "    else:\n",
    "        _dict[_total]=i+1"
   ]
  },
  {
   "cell_type": "code",
   "execution_count": 74,
   "metadata": {},
   "outputs": [
    {
     "data": {
      "text/plain": [
       "{1, 2}"
      ]
     },
     "execution_count": 74,
     "metadata": {},
     "output_type": "execute_result"
    }
   ],
   "source": [
    "s=set()\n",
    "s.add(1)\n",
    "s.add(2)\n",
    "s"
   ]
  },
  {
   "cell_type": "code",
   "execution_count": 77,
   "metadata": {},
   "outputs": [],
   "source": [
    "_input=['a','b','c','d']\n",
    "def comb(_inp,n):\n",
    "    if n==0:return [[]]\n",
    "    _seqs=[]\n",
    "    for i in range(0,len(_inp)):\n",
    "        _seq=[_inp[i]]\n",
    "        _rem_list=_inp[i+1:]\n",
    "        for j in comb(_rem_list,n-1):\n",
    "            _seqs.append(_seq+j)\n",
    "    return _seqs\n",
    "\n",
    "def perm(_inp,n):\n",
    "    if n==0:return [[]]\n",
    "    _seqs=[]\n",
    "    for i in range(0,len(_inp)):\n",
    "        _seq=[_inp[i]]\n",
    "        _rem_list=_inp[:i]+_inp[i+1:]\n",
    "        for j in perm(_rem_list,n-1):\n",
    "            _seqs.append(_seq+j)\n",
    "    return _seqs\n"
   ]
  },
  {
   "cell_type": "code",
   "execution_count": 78,
   "metadata": {},
   "outputs": [
    {
     "data": {
      "text/plain": [
       "[['a', 'b', 'c'],\n",
       " ['a', 'b', 'd'],\n",
       " ['a', 'c', 'b'],\n",
       " ['a', 'c', 'd'],\n",
       " ['a', 'd', 'b'],\n",
       " ['a', 'd', 'c'],\n",
       " ['b', 'a', 'c'],\n",
       " ['b', 'a', 'd'],\n",
       " ['b', 'c', 'a'],\n",
       " ['b', 'c', 'd'],\n",
       " ['b', 'd', 'a'],\n",
       " ['b', 'd', 'c'],\n",
       " ['c', 'a', 'b'],\n",
       " ['c', 'a', 'd'],\n",
       " ['c', 'b', 'a'],\n",
       " ['c', 'b', 'd'],\n",
       " ['c', 'd', 'a'],\n",
       " ['c', 'd', 'b'],\n",
       " ['d', 'a', 'b'],\n",
       " ['d', 'a', 'c'],\n",
       " ['d', 'b', 'a'],\n",
       " ['d', 'b', 'c'],\n",
       " ['d', 'c', 'a'],\n",
       " ['d', 'c', 'b']]"
      ]
     },
     "execution_count": 78,
     "metadata": {},
     "output_type": "execute_result"
    }
   ],
   "source": [
    "n=3\n",
    "perm(_input,n)"
   ]
  },
  {
   "cell_type": "code",
   "execution_count": 71,
   "metadata": {},
   "outputs": [
    {
     "data": {
      "text/plain": [
       "[('a', 'b', 'c'),\n",
       " ('a', 'b', 'd'),\n",
       " ('a', 'c', 'b'),\n",
       " ('a', 'c', 'd'),\n",
       " ('a', 'd', 'b'),\n",
       " ('a', 'd', 'c'),\n",
       " ('b', 'a', 'c'),\n",
       " ('b', 'a', 'd'),\n",
       " ('b', 'c', 'a'),\n",
       " ('b', 'c', 'd'),\n",
       " ('b', 'd', 'a'),\n",
       " ('b', 'd', 'c'),\n",
       " ('c', 'a', 'b'),\n",
       " ('c', 'a', 'd'),\n",
       " ('c', 'b', 'a'),\n",
       " ('c', 'b', 'd'),\n",
       " ('c', 'd', 'a'),\n",
       " ('c', 'd', 'b'),\n",
       " ('d', 'a', 'b'),\n",
       " ('d', 'a', 'c'),\n",
       " ('d', 'b', 'a'),\n",
       " ('d', 'b', 'c'),\n",
       " ('d', 'c', 'a'),\n",
       " ('d', 'c', 'b')]"
      ]
     },
     "execution_count": 71,
     "metadata": {},
     "output_type": "execute_result"
    }
   ],
   "source": [
    "from itertools import combinations as icomb\n",
    "from itertools import permutations as iperm\n",
    "n=3\n",
    "ret=iperm(_input,n)\n",
    "list(ret)"
   ]
  },
  {
   "cell_type": "code",
   "execution_count": null,
   "metadata": {},
   "outputs": [],
   "source": []
  }
 ],
 "metadata": {
  "kernelspec": {
   "display_name": "Python 3",
   "language": "python",
   "name": "python3"
  }
 },
 "nbformat": 4,
 "nbformat_minor": 4
}
