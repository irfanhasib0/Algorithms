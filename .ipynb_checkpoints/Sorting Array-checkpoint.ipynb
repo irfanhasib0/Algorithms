{
 "cells": [
  {
   "cell_type": "markdown",
   "metadata": {},
   "source": [
    "## Bubble Sort"
   ]
  },
  {
   "cell_type": "code",
   "execution_count": 21,
   "metadata": {},
   "outputs": [],
   "source": [
    "arr=[1,9,2,8,3,7,4,6,5]"
   ]
  },
  {
   "cell_type": "code",
   "execution_count": 23,
   "metadata": {},
   "outputs": [
    {
     "name": "stdout",
     "output_type": "stream",
     "text": [
      "[1, 2, 3, 4, 5, 6, 7, 8, 9]\n",
      "[9, 8, 7, 6, 5, 4, 3, 2, 1]\n"
     ]
    }
   ],
   "source": [
    "from copy import copy\n",
    "arr=[1,9,2,8,3,7,4,6,5]\n",
    "raw_arr=copy(arr)\n",
    "for i in range(len(arr)):\n",
    "    for j in range(i+1,len(arr)):\n",
    "        if arr[i]<arr[j]:\n",
    "            #print(arr[i],arr[j])\n",
    "            temp=arr[i]\n",
    "            arr[i]=arr[j]\n",
    "            arr[j]=temp\n",
    "print(raw_arr)\n",
    "print(arr)"
   ]
  },
  {
   "cell_type": "code",
   "execution_count": 39,
   "metadata": {},
   "outputs": [
    {
     "name": "stdout",
     "output_type": "stream",
     "text": [
      "[9, 8, 7, 6, 5, 4, 3, 2, 1]\n"
     ]
    }
   ],
   "source": [
    "from copy import copy\n",
    "arr=[1,9,2,8,3,7,4,6,5]\n",
    "out_arr=copy(arr)\n",
    "_sorted=False\n",
    "while not _sorted:\n",
    "    _sorted=True\n",
    "    for i in range(len(arr)-1):\n",
    "        if arr[i]<arr[i+1]:\n",
    "            _sorted=False\n",
    "            #print(arr)\n",
    "            temp=arr[i]\n",
    "            arr[i]=arr[i+1]\n",
    "            arr[i+1]=temp\n",
    "    #print(_sorted)\n",
    "print(arr)"
   ]
  },
  {
   "cell_type": "markdown",
   "metadata": {},
   "source": [
    "# Quic sort"
   ]
  },
  {
   "cell_type": "code",
   "execution_count": 67,
   "metadata": {},
   "outputs": [
    {
     "name": "stdout",
     "output_type": "stream",
     "text": [
      "[1, 9, 2, 8, 3, 7, 4, 6, 5]\n",
      "[1, 2, 3, 4, 5, 6, 7, 8, 9]\n"
     ]
    }
   ],
   "source": [
    "from copy import copy\n",
    "arr=[1,9,2,8,3,7,4,6,5]\n",
    "raw_arr=copy(arr)\n",
    "def partition(arr,low,high,pivot):\n",
    "    while(low<high):\n",
    "        #print(low,high,arr,pivot)\n",
    "        while arr[low]<pivot and low < len(arr):\n",
    "            low+=1\n",
    "        while arr[high]>pivot and high >-1:\n",
    "            high-=1\n",
    "        #print('..',low,high,arr,pivot)\n",
    "        if low<=high:\n",
    "            temp=arr[low]\n",
    "            arr[low]=arr[high]\n",
    "            arr[high]=temp\n",
    "            low+=1\n",
    "            high-=1\n",
    "    return low\n",
    "def quicksort(arr,low,high):\n",
    "    #print(arr,low,high)\n",
    "    if (low>=high):\n",
    "        return arr\n",
    "    pivot=arr[(low+high)//2]\n",
    "    ind=partition(arr,low,high,pivot)\n",
    "    arr=quicksort(arr,low,ind-1)\n",
    "    arr=quicksort(arr,ind,high)\n",
    "    return arr\n",
    "arr=quicksort(arr,0,len(arr)-1)\n",
    "print(raw_arr)\n",
    "print(arr)"
   ]
  },
  {
   "cell_type": "code",
   "execution_count": 47,
   "metadata": {},
   "outputs": [
    {
     "data": {
      "text/plain": [
       "9"
      ]
     },
     "execution_count": 47,
     "metadata": {},
     "output_type": "execute_result"
    }
   ],
   "source": [
    "len(arr)"
   ]
  },
  {
   "cell_type": "code",
   "execution_count": 29,
   "metadata": {},
   "outputs": [
    {
     "name": "stdout",
     "output_type": "stream",
     "text": [
      "0 9\n",
      "0 3\n",
      "1 3\n",
      "merge\n",
      "[9] [2] 1 2 3\n",
      "9 2\n",
      "[1, 2, 9, 8, 3, 7, 4, 6, 5]\n",
      "merge\n",
      "[1] [2, 9] 0 1 3\n",
      "[1, 2, 9, 8, 3, 7, 4, 6, 5]\n",
      "4 9\n",
      "6 9\n",
      "7 9\n",
      "merge\n",
      "[6] [5] 7 8 9\n",
      "6 5\n",
      "[1, 2, 9, 8, 3, 7, 4, 5, 6]\n",
      "merge\n",
      "[4] [5, 6] 6 7 9\n",
      "[1, 2, 9, 8, 3, 7, 4, 5, 6]\n",
      "merge\n",
      "[3, 7] [4, 5, 6] 4 6 9\n",
      "7 4\n",
      "4 5\n",
      "5 6\n",
      "[1, 2, 9, 8, 3, 4, 5, 6, 7]\n",
      "merge\n",
      "[1, 2, 9, 8] [3, 4, 5, 6, 7] 0 4 9\n",
      "9 3\n",
      "8 4\n",
      "3 5\n",
      "4 6\n",
      "5 7\n",
      "[1, 2, 3, 4, 5, 6, 7, 9, 8]\n",
      "[1, 9, 2, 8, 3, 7, 4, 6, 5]\n",
      "[1, 2, 3, 4, 5, 6, 7, 9, 8]\n"
     ]
    }
   ],
   "source": [
    "from copy import copy\n",
    "arr=[1,9,2,8,3,7,4,6,5]\n",
    "raw_arr=copy(arr)\n",
    "temp=[0]*len(arr)\n",
    "def mergeHalf(arr,low,high,ind):\n",
    "    \n",
    "    L=arr[low:ind]\n",
    "    R=arr[ind:high]\n",
    "    i=low\n",
    "    j=ind\n",
    "    k=low\n",
    "    #print(ind,low,high)\n",
    "    print(L,R,low,ind,high)\n",
    "    _arr=copy(arr)\n",
    "    while i < ind and j < high:\n",
    "        #print('..',arr[i],arr[j])\n",
    "        if arr[i]<arr[j]:\n",
    "            #print(arr[k],arr[i])\n",
    "            _arr[k]=arr[i]\n",
    "            \n",
    "            i+=1\n",
    "        else:\n",
    "            print(arr[k],arr[j])\n",
    "            _arr[k]=arr[j]\n",
    "            \n",
    "            j+=1\n",
    "        k+=1\n",
    "    \n",
    "    while i <ind:\n",
    "        _arr[k]=arr[i]\n",
    "        i+=1\n",
    "        k+=1\n",
    "    while j <high:\n",
    "        _arr[k]=arr[j]\n",
    "        j+=1\n",
    "        k+=1\n",
    "        \n",
    "    return _arr\n",
    "    \n",
    "def _ind(low,high):\n",
    "    return low+(high-low)//2\n",
    "def mergeSort(arr,low,high):\n",
    "    #print(arr,low,high)\n",
    "    if (high-low>1):\n",
    "        print(low,high)\n",
    "            #return arr\n",
    "\n",
    "        ind=_ind(low,high)\n",
    "        arr=mergeSort(arr,low,ind-1)\n",
    "        arr=mergeSort(arr,ind,high)\n",
    "        print('merge')\n",
    "        arr=mergeHalf(arr,low,high,ind)\n",
    "        print(arr)\n",
    "    return arr\n",
    "arr=mergeSort(arr,0,len(arr))\n",
    "print(raw_arr)\n",
    "print(arr)"
   ]
  },
  {
   "cell_type": "markdown",
   "metadata": {},
   "source": [
    "### Fibonacci"
   ]
  },
  {
   "cell_type": "code",
   "execution_count": 14,
   "metadata": {},
   "outputs": [
    {
     "name": "stdout",
     "output_type": "stream",
     "text": [
      "0 0 0 0\n",
      "1 1 1 1\n",
      "2 1 2 2\n",
      "3 2 3 3\n",
      "4 3 5 5\n",
      "5 5 8 8\n",
      "6 8 13 13\n",
      "7 13 21 21\n",
      "8 21 34 34\n",
      "9 34 55 55\n"
     ]
    }
   ],
   "source": [
    "def fib(n):\n",
    "    if n==0: return 0\n",
    "    elif n==1: return 1\n",
    "    else:\n",
    "        return fib(n-1)+ fib(n-2)\n",
    "def fib_2(n):\n",
    "    if n==0: return 0\n",
    "    elif n==1: return 1\n",
    "    else: \n",
    "        a=0;b=1\n",
    "        for j in range(n):\n",
    "            fib=a+b\n",
    "            a=b\n",
    "            b=fib\n",
    "    return fib\n",
    "def fib_3(n):\n",
    "    _init_val=[0,1]\n",
    "    fib=0\n",
    "    for i in range(n):\n",
    "        fib=_init_val[0]+_init_val[1]\n",
    "        _init_val=_init_val[1:]+[fib]\n",
    "    return fib\n",
    "\n",
    "for i in range(10):\n",
    "    print(i,fib(i),fib_2(i),fib_3(i))"
   ]
  },
  {
   "cell_type": "markdown",
   "metadata": {},
   "source": [
    "### Counting .txt files in dirrectories"
   ]
  },
  {
   "cell_type": "code",
   "execution_count": 11,
   "metadata": {},
   "outputs": [
    {
     "name": "stdout",
     "output_type": "stream",
     "text": [
      "test\\1.txt\n",
      "test\\branch1\\b1.txt\n",
      "test\\branch1\\branch2\\b2.txt\n",
      "test\\level1\\2.txt\n",
      "test\\level1\\level2\\3.txt\n",
      "5\n"
     ]
    }
   ],
   "source": [
    "import glob\n",
    "\n",
    "def print_fname(_root):\n",
    "   global _count;\n",
    "   for _dir in glob.glob(_root):\n",
    "        if _dir[-4:]=='.txt':\n",
    "            print(_dir)\n",
    "            _count=_count+1\n",
    "        else:\n",
    "            print_fname(_dir+'/*')\n",
    "_count=0\n",
    "print_fname('test/*')\n",
    "print(_count)"
   ]
  },
  {
   "cell_type": "code",
   "execution_count": 105,
   "metadata": {},
   "outputs": [
    {
     "data": {
      "text/plain": [
       "[1, 2, 3, 5, 6, 7, 8, 10, 11, 12, 13, 15, 16, 17, 18]"
      ]
     },
     "execution_count": 105,
     "metadata": {},
     "output_type": "execute_result"
    }
   ],
   "source": [
    "from collections import deque\n",
    "from copy import deepcopy\n",
    "class Node():\n",
    "    def __init__(self,data):\n",
    "        self.data=data\n",
    "        self.left=None\n",
    "        self.right=None\n",
    "        self.queue=[]\n",
    "        self.visited=False\n",
    "        \n",
    "    def insert(self,data):\n",
    "        if data < self.data:\n",
    "            if self.left ==None:\n",
    "                self.left=Node(data)\n",
    "            else:\n",
    "                self.left.insert(data)\n",
    "\n",
    "        if data > self.data:\n",
    "            if self.right ==None:\n",
    "               self.right=Node(data)\n",
    "            else:\n",
    "                self.right.insert(data)\n",
    "        \n",
    "            \n",
    "    def print_tree(self):\n",
    "        global queue\n",
    "        if self.left: self.left.print_tree()\n",
    "        #print(self.data)\n",
    "        queue.append(self.data)\n",
    "        if self.right: self.right.print_tree()\n",
    "        \n",
    "tree=Node(10)\n",
    "#for i in [5,15,2,11,13,16,18,7,12,17,1,3,6,8]:\n",
    "for i in [5,15,2,7,12,17,1,3,6,8,11,13,16,18]:\n",
    "    tree.insert(i)\n",
    "queue=[]\n",
    "tree.print_tree()\n",
    "queue"
   ]
  },
  {
   "cell_type": "code",
   "execution_count": 99,
   "metadata": {},
   "outputs": [
    {
     "name": "stdout",
     "output_type": "stream",
     "text": [
      "[10]\n"
     ]
    },
    {
     "data": {
      "text/plain": [
       "[10, 5, 15, 2, 7, 12, 17, 1, 3, 6, 8, 11, 13, 16, 18]"
      ]
     },
     "execution_count": 99,
     "metadata": {},
     "output_type": "execute_result"
    }
   ],
   "source": [
    "def bfs(tree):\n",
    "    curr_tree=deepcopy(tree)\n",
    "    queue=deque()\n",
    "    out=[]\n",
    "    curr_tree.visited=True\n",
    "    queue.append(curr_tree)\n",
    "    out.append(curr_tree.data)\n",
    "    print(out)\n",
    "    while len(queue):\n",
    "        curr_tree=queue.popleft()\n",
    "        if curr_tree.left==None and curr_tree.right==None:\n",
    "            continue\n",
    "        for node in [curr_tree.left,curr_tree.right]:\n",
    "            if node:\n",
    "                if node.visited ==False:\n",
    "                     node.visited==True\n",
    "                     out.append(node.data)\n",
    "                     #print(out)\n",
    "                     queue.append(node)\n",
    "    return out\n",
    "_out=bfs(tree)\n",
    "_out\n",
    "\n",
    "count=0\n",
    "level=0\n",
    "arr=[2**i for i in range(int(math.log(len(_out)+1,2)))]\n",
    "hspace=(3*len(arr))\n",
    "_start=True\n",
    "for i,val in enumerate(_out):\n",
    "    count+=1\n",
    "    \n",
    "    if _start==True:\n",
    "        for _ in range(hspace//arr[level]): \n",
    "            print(\" \",end=\"\")\n",
    "    else:\n",
    "        for _ in range(hspace//arr[level]): \n",
    "            print(\"  \",end=\"\")\n",
    "    \n",
    "    print(str(val).zfill(2),end=\"\")\n",
    "    if count==arr[level]:\n",
    "        count=0\n",
    "        level+=1\n",
    "        _start=True\n",
    "        print(\"\",end=\"\\n\\n\")\n",
    "    else: _start=False"
   ]
  },
  {
   "cell_type": "code",
   "execution_count": 116,
   "metadata": {},
   "outputs": [
    {
     "data": {
      "text/plain": [
       "<matplotlib.axes._subplots.AxesSubplot at 0x24017c68d88>"
      ]
     },
     "execution_count": 116,
     "metadata": {},
     "output_type": "execute_result"
    },
    {
     "data": {
      "image/png": "[encoded data removed]",
      "text/plain": [
       "<Figure size 432x288 with 2 Axes>"
      ]
     },
     "metadata": {
      "needs_background": "light"
     },
     "output_type": "display_data"
    }
   ],
   "source": [
    "import numpy as np\n",
    "import seaborn as sns\n",
    "from collections import deque\n",
    "from matplotlib import pyplot as plt\n",
    "\n",
    "w=6\n",
    "h=5\n",
    "env=np.zeros((h,w),dtype=np.float64)\n",
    "env[0,w-1]=1\n",
    "env[1,w-1]=np.nan\n",
    "env[1,w-3]=np.nan\n",
    "env[1,1]=np.nan\n",
    "\n",
    "nenv=env.copy()\n",
    "base_env=env.copy()\n",
    "sns.heatmap(nenv,annot=True)"
   ]
  },
  {
   "cell_type": "code",
   "execution_count": 117,
   "metadata": {},
   "outputs": [],
   "source": [
    "vis_env=env.copy()\n",
    "class Node():\n",
    "    def __init__(self,i,j):\n",
    "        self.val=[i,j]\n",
    "        self.edges=[]\n",
    "        self.root=None\n",
    "        self.left=self.is_valid([i,j-1])\n",
    "        self.right=self.is_valid([i,j+1])\n",
    "        self.up=self.is_valid([i-1,j])\n",
    "        self.down=self.is_valid([i+1,j])\n",
    "        \n",
    "    def is_valid(self,lst):\n",
    "        [a,b]=lst\n",
    "        if a >= 0 and a < h and b>= 0 and b<w and np.isnan(nenv[a,b]) == False:\n",
    "            self.edges.append([a,b])\n",
    "            return [a,b]\n",
    "        else:\n",
    "            return  None"
   ]
  },
  {
   "cell_type": "code",
   "execution_count": 118,
   "metadata": {},
   "outputs": [],
   "source": [
    "\n",
    "start=[h-1,0]\n",
    "goal=[0,w-1]\n",
    "vis_nodes=env.copy()\n",
    "node_q=deque()\n",
    "\n",
    "x,y=start\n",
    "node=Node(x,y)\n",
    "vis_nodes[x,y]=10\n",
    "node_q.append(node)\n",
    "root_dict={}\n",
    "flag=True\n",
    "while(flag):\n",
    "    node=node_q.popleft()\n",
    "    root=node.val\n",
    "    for [x,y] in node.edges:\n",
    "        if vis_nodes[x,y]==10 : continue\n",
    "        #print(x,y)\n",
    "        if [x,y] != goal: \n",
    "            vis_nodes[x,y]=10\n",
    "            node = Node(x,y)\n",
    "            root_dict[str([x,y])] = root\n",
    "            node_q.append(node)\n",
    "        else:\n",
    "            root_dict[str([x,y])] = root\n",
    "            flag=False\n",
    "            break\n",
    "    #sns.heatmap(vis_nodes,annot=True)\n",
    "    #plt.show()"
   ]
  },
  {
   "cell_type": "code",
   "execution_count": 119,
   "metadata": {},
   "outputs": [
    {
     "data": {
      "image/png": "[encoded data removed]",
      "text/plain": [
       "<Figure size 432x288 with 2 Axes>"
      ]
     },
     "metadata": {
      "needs_background": "light"
     },
     "output_type": "display_data"
    }
   ],
   "source": [
    "point=goal\n",
    "path=[goal]\n",
    "path_map=env.copy()\n",
    "rwd=0.9\n",
    "while(1):\n",
    "   if point==start:break\n",
    "   point=root_dict[str(point)]\n",
    "   path.append(point)\n",
    "   path_map[point[0],point[1]]=rwd\n",
    "   rwd*=0.9\n",
    "sns.heatmap(path_map,annot=False)\n",
    "plt.show()\n"
   ]
  },
  {
   "cell_type": "code",
   "execution_count": 29,
   "metadata": {},
   "outputs": [
    {
     "name": "stdout",
     "output_type": "stream",
     "text": [
      "1\n",
      "2\n",
      "3\n",
      "4\n",
      "5\n",
      "6\n",
      "7\n",
      "8\n",
      "9\n"
     ]
    }
   ],
   "source": [
    "while(True):\n",
    "     if tree.left: print(tree.left.data,end=\" \")\n",
    "     print(tree.data,end=\" \")\n",
    "     if tree.right: print(tree.right.data,end=\" \")"
   ]
  },
  {
   "cell_type": "code",
   "execution_count": null,
   "metadata": {},
   "outputs": [],
   "source": []
  }
 ],
 "metadata": {
  "kernelspec": {
   "display_name": "Python 3",
   "language": "python",
   "name": "python3"
  },
  "language_info": {
   "codemirror_mode": {
    "name": "ipython",
    "version": 3
   },
   "file_extension": ".py",
   "mimetype": "text/x-python",
   "name": "python",
   "nbconvert_exporter": "python",
   "pygments_lexer": "ipython3",
   "version": "3.7.7"
  }
 },
 "nbformat": 4,
 "nbformat_minor": 4
}
